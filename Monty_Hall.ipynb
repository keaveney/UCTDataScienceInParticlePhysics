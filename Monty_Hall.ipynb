{
 "cells": [
  {
   "cell_type": "markdown",
   "id": "9cf0d809",
   "metadata": {
    "slideshow": {
     "slide_type": "slide"
    }
   },
   "source": [
    "<table><tr><td><img src='Monty_open_door.svg.png' width=\"570\"></td></tr></table>\n",
    "\n",
    "\n",
    "# Suppose you're on a game show, and you're given the choice of three doors:\n",
    "- Behind one door is a car; behind the others, goats.\n",
    "- You pick a door, say No. 1, and the host, who knows what's behind the doors, opens another door, say No. 3, which has a goat. \n",
    "\n",
    "- He then says to you, \"Do you want to pick door No. 2?\" \n",
    "\n",
    "# Is it to your advantage to switch your choice?\n"
   ]
  },
  {
   "cell_type": "code",
   "execution_count": 6,
   "id": "d625b05f",
   "metadata": {
    "slideshow": {
     "slide_type": "slide"
    }
   },
   "outputs": [],
   "source": [
    "import matplotlib.pyplot as plt\n",
    "import time\n",
    "import numpy as np\n",
    "import mplhep as hep\n",
    "from scipy import stats"
   ]
  },
  {
   "cell_type": "markdown",
   "id": "2d0b9808",
   "metadata": {
    "slideshow": {
     "slide_type": "slide"
    }
   },
   "source": [
    "# Is it to your advantage to switch your choice?\n",
    "- Does keeping or changing our choice increase our **probability** of winning the car?\n",
    "\n",
    "\n",
    "# Recall the Frequentist intepretation of probability"
   ]
  },
  {
   "cell_type": "code",
   "execution_count": 7,
   "id": "baf3090f",
   "metadata": {
    "slideshow": {
     "slide_type": "slide"
    }
   },
   "outputs": [
    {
     "name": "stdout",
     "output_type": "stream",
     "text": [
      "Win probability for keep = 0.3327\n",
      "Win probability for change = 0.6675\n"
     ]
    }
   ],
   "source": [
    "n_games = 10000\n",
    "strategies = ['keep', 'change']\n",
    "doors = [0, 1, 2]\n",
    "\n",
    "res = np.random.choice([door for door in doors if door != \"1\"])\n",
    "\n",
    "n_wins = 0\n",
    "\n",
    "for toy in range(0,n_games):\n",
    "    car_location = np.random.randint(3)\n",
    "    contestant_first_pick = np.random.randint(3)\n",
    "    #now the host opens a door to show us a goat but...\n",
    "    # we dont change our pick so we can only win if we picked correctly the first time\n",
    "    if (car_location == contestant_first_pick):\n",
    "        n_wins = n_wins+1      \n",
    "        \n",
    "print(\"Win probability for keep = \"+ str(float(n_wins/n_games)))\n",
    "\n",
    "\n",
    "n_wins = 0\n",
    "for toy in range(0,n_games):\n",
    "    car_location = np.random.randint(3)\n",
    "    contestant_first_pick = np.random.randint(3)\n",
    "    #now the host opens a door to show us a goat, but he cant open the door you have picked\n",
    "    #and he cant open the door where the car is: he knows where it is and that would give the game away\n",
    "    #opened_door = np.random.choice([door for door in doors if ((door != contestant_first_pick) & (door != car_location)) ])\n",
    "    opened_door = np.random.choice( [door for door in doors if (door != contestant_first_pick) & (door != car_location)  ]   ) # crux of the matter\n",
    "    \n",
    "    # we always change our pick and we can't pick the door we already picked or the opened door\n",
    "    contestant_second_pick = np.random.choice( [door for door in doors if (door != contestant_first_pick) & (door != opened_door)  ]   )\n",
    "\n",
    "    if (car_location == contestant_second_pick) :\n",
    "        n_wins = n_wins+1   \n",
    "\n",
    "print(\"Win probability for change = \"+ str(float(n_wins/n_games)))"
   ]
  },
  {
   "cell_type": "code",
   "execution_count": 8,
   "id": "9796fa16",
   "metadata": {
    "slideshow": {
     "slide_type": "slide"
    }
   },
   "outputs": [
    {
     "name": "stdout",
     "output_type": "stream",
     "text": [
      "Win probability for keep = 0.3326\n",
      "Win probability for change = 0.6645\n"
     ]
    }
   ],
   "source": [
    "n_games = 10000\n",
    "strategies = ['keep', 'change']\n",
    "\n",
    "doors = [0, 1, 2]\n",
    "\n",
    "res = np.random.choice([door for door in doors if door != \"1\"])\n",
    "\n",
    "n_wins = 0\n",
    "for toy in range(0,n_games):\n",
    "    car_location = np.random.randint(3)\n",
    "    contestant_first_pick = np.random.randint(3)\n",
    "    #now the host opens a door to show us a goat but...\n",
    "    # we dont change our pick so we can only win if we picked correctly the first time\n",
    "    if (car_location == contestant_first_pick):\n",
    "        n_wins = n_wins+1        \n",
    "\n",
    "print(\"Win probability for keep = \"+ str(float(n_wins/n_games)))\n",
    "\n",
    "n_wins = 0\n",
    "for toy in range(0,n_games):\n",
    "    car_location = np.random.randint(3)\n",
    "    contestant_first_pick = np.random.randint(3)\n",
    "    #now the host opens a door to show us a goat, but he cant open the door you have picked\n",
    "    #and he cant open the door where the car is: he knows where it is and that would give the game away\n",
    "    #opened_door = np.random.choice([door for door in doors if ((door != contestant_first_pick) & (door != car_location)) ])\n",
    "    opened_door = np.random.choice( [door for door in doors if (door != contestant_first_pick) & (door != car_location)  ]   ) # crux of the matter\n",
    "    \n",
    "    # we always change our pick and we can't pick the door we already picked or the opened door\n",
    "    contestant_second_pick = np.random.choice( [door for door in doors if (door != contestant_first_pick) & (door != opened_door)  ]   )\n",
    "\n",
    "    if (car_location == contestant_second_pick) :\n",
    "        n_wins = n_wins+1        \n",
    "        \n",
    "print(\"Win probability for change = \"+ str(float(n_wins/n_games)))"
   ]
  },
  {
   "cell_type": "code",
   "execution_count": 9,
   "id": "5a594b6c",
   "metadata": {
    "slideshow": {
     "slide_type": "slide"
    }
   },
   "outputs": [
    {
     "name": "stdout",
     "output_type": "stream",
     "text": [
      "Win probability for keep = 0.3408\n",
      "Win probability for change = 0.6592\n"
     ]
    }
   ],
   "source": [
    "# this solution is not clear and 'brute force' enough\n",
    "\n",
    "n_games = 10000\n",
    "\n",
    "strategies = ['keep', 'change']\n",
    "\n",
    "car_locations = np.random.randint(3, size=n_games)\n",
    "contestant_picks = np.random.randint(3, size=n_games)\n",
    "\n",
    "#print(car_locations)\n",
    "#print(contestant_picks)\n",
    "\n",
    "#this is horrible, slow code!\n",
    "for strategy in strategies:\n",
    "    n_wins = 0\n",
    "    for toy in range(0,n_games):\n",
    "        car_location = car_locations[toy]\n",
    "        contestant_pick = contestant_picks[toy]\n",
    "        if (strategy == 'keep'):\n",
    "            if (car_location == contestant_pick):\n",
    "                n_wins = n_wins+1        \n",
    "        if (strategy == 'change'):\n",
    "            if (car_location != contestant_pick):\n",
    "                n_wins = n_wins+1        \n",
    "                \n",
    "    print(\"Win probability for \" + strategy +\" = \"+ str(float(n_wins/n_games)))"
   ]
  }
 ],
 "metadata": {
  "celltoolbar": "Slideshow",
  "kernelspec": {
   "display_name": "higgs-lab",
   "language": "python",
   "name": "python3"
  },
  "language_info": {
   "codemirror_mode": {
    "name": "ipython",
    "version": 3
   },
   "file_extension": ".py",
   "mimetype": "text/x-python",
   "name": "python",
   "nbconvert_exporter": "python",
   "pygments_lexer": "ipython3",
   "version": "3.10.4"
  }
 },
 "nbformat": 4,
 "nbformat_minor": 5
}
