{
 "cells": [
  {
   "cell_type": "markdown",
   "id": "intro-lecture",
   "metadata": {},
   "source": [
    "# Random Number Generation Techniques\n",
    "\n",
    "In this lecture we will demonstrate two methods for generating random numbers from a given probability density function (pdf). The target distribution here is the standard Gaussian (Normal) distribution with mean 0 and standard deviation 1.\n",
    "\n",
    "The two methods are:\n",
    "\n",
    "1. **Pass/Fail (Accept–Reject) Method:**\n",
    "   - We generate candidate samples uniformly over a chosen interval and then accept or reject each candidate based on the value of the pdf.\n",
    "\n",
    "2. **CDF-Based (Inverse Transform) Method:**\n",
    "   - We generate a uniform random number in [0,1] and use the inverse CDF (quantile function) of the target distribution to transform it into a sample from the desired pdf.\n",
    "\n",
    "Let's get started!"
   ]
  },
  {
   "cell_type": "code",
   "execution_count": null,
   "id": "imports",
   "metadata": {},
   "outputs": [],
   "source": [
    "import uproot\n",
    "import uproot_methods.classes.TLorentzVector as LVepm\n",
    "import matplotlib.pyplot as plt\n",
    "import time\n",
    "import infofile\n",
    "import numpy as np\n",
    "import mplhep as hep\n",
    "from scipy import stats\n",
    "\n",
    "import pandas as pd\n",
    "\n",
    "from scipy.stats import poisson\n",
    "from scipy.stats import norm\n",
    "\n",
    "# For reproducibility\n",
    "np.random.seed(42)"
   ]
  },
  {
   "cell_type": "markdown",
   "id": "pf-explanation",
   "metadata": {},
   "source": [
    "## Pass/Fail (Accept–Reject) Method\n",
    "\n",
    "We first demonstrate the Pass/Fail method. In this method:\n",
    "\n",
    "- We choose an interval \\( [x_{min}, x_{max}] \\) over which the target pdf is non-negligible.\n",
    "- For each toy, we generate a candidate sample uniformly from \\( [x_{min}, x_{max}] \\).\n",
    "- We also generate a uniform random number between 0 and \\( M \\) (where \\( M \\) is the maximum value of the pdf over the interval).\n",
    "- The candidate is accepted if the uniform number is below the pdf evaluated at that candidate; otherwise it is rejected.\n",
    "\n",
    "Below is the code for generating toys using this method."
   ]
  },
  {
   "cell_type": "code",
   "execution_count": null,
   "id": "pf-sampling",
   "metadata": {},
   "outputs": [],
   "source": [
    "# Parameters for the sampling\n",
    "nsteps = 100\n",
    "ntoys = 10000\n",
    "\n",
    "x_min = -5.0\n",
    "x_max = 5.0\n",
    "\n",
    "x_vals = np.linspace(x_min, x_max, nsteps)\n",
    "pdf_vals = norm.pdf(x_vals, 0, 1.0)\n",
    "\n",
    "# Maximum value of the pdf in the interval\n",
    "max_pdf = np.max(pdf_vals)\n",
    "print(\"Max pdf value:\", max_pdf)\n",
    "\n",
    "# Perform Pass/Fail sampling\n",
    "pass_fail_flags = np.array([])\n",
    "uniform_candidates = np.random.uniform(x_min, x_max, size=ntoys)\n",
    "\n",
    "for toy in uniform_candidates:\n",
    "    test_val = np.random.uniform(0, max_pdf)\n",
    "    if test_val > norm.pdf(toy, 0, 1.0):\n",
    "        pass_fail_flags = np.append(pass_fail_flags, 0)  # reject\n",
    "    else:\n",
    "        pass_fail_flags = np.append(pass_fail_flags, 1)  # accept\n",
    "\n",
    "# Select accepted samples\n",
    "pf_samples = uniform_candidates[pass_fail_flags > 0]"
   ]
  },
  {
   "cell_type": "markdown",
   "id": "pf-plotting",
   "metadata": {},
   "source": [
    "### Plotting the Pass/Fail Results\n",
    "\n",
    "We now plot the histogram of the accepted samples against the true Gaussian pdf."
   ]
  },
  {
   "cell_type": "code",
   "execution_count": null,
   "id": "pf-plot-code",
   "metadata": {},
   "outputs": [],
   "source": [
    "# Create a DataFrame for ease of histogramming\n",
    "import pandas as pd\n",
    "\n",
    "df_pf = pd.DataFrame(pf_samples, columns=['samples'])\n",
    "dataCounts, dataBins = np.histogram(df_pf['samples'], bins=x_vals, density=True)\n",
    "binCentres = (dataBins[:-1] + dataBins[1:]) / 2\n",
    "widths = np.diff(dataBins)\n",
    "\n",
    "fig, ax = plt.subplots(figsize=(10, 4), tight_layout=True)\n",
    "ax.set_xlabel(\"$x$\", fontsize=18)\n",
    "ax.set_ylabel(\"f($x$)\", fontsize=18)\n",
    "\n",
    "x_plot = np.linspace(x_min, x_max, 100)\n",
    "ax.plot(x_plot, norm.pdf(x_plot, 0, 1.0), 'r-', lw=5, alpha=0.6, label=r'Gaussian ($\\mu$=0, $\\sigma$=1)')\n",
    "plt.bar(binCentres, dataCounts, align='center', width=widths, label='Pass/Fail samples', color='b')\n",
    "\n",
    "plt.xlim(-7, 7)\n",
    "plt.ylim(0, 1)\n",
    "ax.legend(loc='upper left', fontsize='large')\n",
    "\n",
    "plt.show()\n",
    "plt.close()"
   ]
  },
  {
   "cell_type": "markdown",
   "id": "cdf-explanation",
   "metadata": {},
   "source": [
    "## CDF-Based (Inverse Transform) Method\n",
    "\n",
    "The inverse transform method proceeds as follows:\n",
    "\n",
    "1. Generate a uniform random number \\( u \\) in \\( [0, 1] \\).\n",
    "2. Obtain the sample by computing \\( x = F^{-1}(u) \\), where \\( F^{-1} \\) is the inverse cumulative distribution function (CDF) of the target distribution.\n",
    "\n",
    "For the Normal distribution, we can use the `ppf` (percent-point function) available in SciPy’s `norm` to serve as the inverse CDF. The code below generates samples using this method."
   ]
  },
  {
   "cell_type": "code",
   "execution_count": null,
   "id": "cdf-sampling",
   "metadata": {},
   "outputs": [],
   "source": [
    "# Number of samples to generate using the CDF-based method\n",
    "ntoys_cdf = 10000\n",
    "\n",
    "# Generate uniform samples in [0, 1]\n",
    "uniform_samples = np.random.uniform(0, 1, size=ntoys_cdf)\n",
    "\n",
    "# Apply the inverse CDF (ppf) for the Normal distribution\n",
    "cdf_samples = norm.ppf(uniform_samples, loc=0, scale=1)"
   ]
  },
  {
   "cell_type": "markdown",
   "id": "cdf-plotting",
   "metadata": {},
   "source": [
    "### Plotting the CDF-Based Sampling Results\n",
    "\n",
    "Let's compare the histogram of the samples generated using the inverse transform method to the target Gaussian pdf."
   ]
  },
  {
   "cell_type": "code",
   "execution_count": null,
   "id": "cdf-plot-code",
   "metadata": {},
   "outputs": [],
   "source": [
    "# Histogram and plot for CDF-based samples\n",
    "df_cdf = pd.DataFrame(cdf_samples, columns=['samples'])\n",
    "dataCounts_cdf, dataBins_cdf = np.histogram(df_cdf['samples'], bins=x_vals, density=True)\n",
    "binCentres_cdf = (dataBins_cdf[:-1] + dataBins_cdf[1:]) / 2\n",
    "widths_cdf = np.diff(dataBins_cdf)\n",
    "\n",
    "fig, ax = plt.subplots(figsize=(10, 4), tight_layout=True)\n",
    "ax.set_xlabel(\"$x$\", fontsize=18)\n",
    "ax.set_ylabel(\"f($x$)\", fontsize=18)\n",
    "\n",
    "x_plot = np.linspace(x_min, x_max, 100)\n",
    "ax.plot(x_plot, norm.pdf(x_plot, 0, 1.0), 'r-', lw=5, alpha=0.6, label=r'Gaussian ($\\mu$=0, $\\sigma$=1)')\n",
    "plt.bar(binCentres_cdf, dataCounts_cdf, align='center', width=widths_cdf, label='CDF Sampling samples', color='g')\n",
    "\n",
    "plt.xlim(-7, 7)\n",
    "plt.ylim(0, 1)\n",
    "ax.legend(loc='upper left', fontsize='large')\n",
    "\n",
    "plt.show()\n",
    "plt.close()"
   ]
  },
  {
   "cell_type": "markdown",
   "id": "conclusion",
   "metadata": {},
   "source": [
    "## Conclusion\n",
    "\n",
    "In this lecture, we demonstrated two techniques for random number generation:\n",
    "\n",
    "- **Pass/Fail (Accept–Reject) Method:**\n",
    "  - Simple to implement but can be inefficient if the candidate distribution is very different from the target pdf.\n",
    "\n",
    "- **CDF-Based (Inverse Transform) Method:**\n",
    "  - Directly transforms uniformly distributed numbers into samples from the target distribution using the inverse CDF. \n",
    "\n",
    "Both methods yield samples that follow the desired Normal distribution. Choose the method that best suits your problem and computational requirements."
   ]
  }
 ],
 "metadata": {
  "kernelspec": {
   "display_name": "Python 3 (ipykernel)",
   "language": "python",
   "name": "python3"
  },
  "language_info": {
   "name": "python",
   "version": "3.9.5"
  }
 },
 "nbformat": 4,
 "nbformat_minor": 5
}
